{
 "cells": [
  {
   "cell_type": "code",
   "execution_count": null,
   "metadata": {},
   "outputs": [],
   "source": [
    "import pandas as pd\n",
    "import pyodbc as pdb\n",
    "import psycopg2\n",
    "import numpy as np\n",
    "import faker"
   ]
  },
  {
   "cell_type": "markdown",
   "metadata": {},
   "source": [
    "### CONEXIONES"
   ]
  },
  {
   "cell_type": "code",
   "execution_count": null,
   "metadata": {},
   "outputs": [],
   "source": [
    "host = \"localhost\"\n",
    "database = \"postgres\"\n",
    "user = \"root\"\n",
    "password = \"root\"\n",
    "port = \"5432\""
   ]
  },
  {
   "cell_type": "code",
   "execution_count": null,
   "metadata": {},
   "outputs": [],
   "source": [
    "connection_target = psycopg2.connect(\n",
    "        host=host,\n",
    "        database=database,\n",
    "        user=user,\n",
    "        password=password,\n",
    "        port=port\n",
    "    )\n",
    "\n",
    "# Cursor\n",
    "cur_target = connection_target.cursor()"
   ]
  },
  {
   "cell_type": "code",
   "execution_count": null,
   "metadata": {},
   "outputs": [],
   "source": [
    "query = \"\"\"\n",
    "SELECT *\n",
    "FROM jubilados\n",
    "\"\"\"\n",
    "\n",
    "cur_target.execute(query)\n",
    "rows = cur_target.fetchall()\n",
    "\n",
    "list_of_rows = []\n",
    "\n",
    "# Para guardar todas las filas\n",
    "for row in rows:\n",
    "    list_of_rows.append(row)\n",
    "\n",
    "# Obtener los nombres de las columnas desde la descripción del cursor\n",
    "column_names = [desc[0] for desc in cur_target.description]\n",
    "\n",
    "# Crea el DataFrame con los datos y los nombres de las columnas\n",
    "df = pd.DataFrame(list_of_rows, columns=column_names)\n",
    "display(df)\n",
    "df.dtypes"
   ]
  },
  {
   "cell_type": "code",
   "execution_count": null,
   "metadata": {},
   "outputs": [],
   "source": [
    "query = \"\"\"\n",
    "SELECT *\n",
    "FROM viajes\n",
    "\"\"\"\n",
    "\n",
    "cur_target.execute(query)\n",
    "rows = cur_target.fetchall()\n",
    "\n",
    "list_of_rows = []\n",
    "\n",
    "#Para guardar todas las filas\n",
    "for row in rows:\n",
    "    list_of_rows.append(row)\n",
    "\n",
    "# Obtener los nombres de las columnas desde la descripción del cursor\n",
    "column_names = [desc[0] for desc in cur_target.description]\n",
    "\n",
    "# Crea el DataFrame con los datos y los nombres de las columnas\n",
    "df_viajes = pd.DataFrame(list_of_rows, columns=column_names)\n",
    "display(df_viajes)"
   ]
  },
  {
   "cell_type": "code",
   "execution_count": null,
   "metadata": {},
   "outputs": [],
   "source": [
    "fila_aleatoria = df_viajes.sample(n=1)\n",
    "\n",
    "# Obtiene el valor de geografico_id del viaje elegido al azar\n",
    "geografico_id_aleatorio = fila_aleatoria['geografico_id'].values[0]\n",
    "info_viaje = fila_aleatoria.to_dict(orient='records')[0] #guarda la info del viaje en un diccionario\n",
    "\n",
    "# Filtra df basándose en geografico_id, de forma que puedan acceder los que viven ahí\n",
    "df_filtrado = df[df['geografico_id'] == geografico_id_aleatorio]"
   ]
  },
  {
   "cell_type": "markdown",
   "metadata": {},
   "source": [
    "### FILTROS"
   ]
  },
  {
   "cell_type": "code",
   "execution_count": null,
   "metadata": {},
   "outputs": [],
   "source": [
    "# PUNTOS INICIALES\n",
    "df_filtrado['puntos'] = 0\n",
    "df_filtrado['puntos'] = df_filtrado['puntos'].astype(float)  # Para insertar decimales"
   ]
  },
  {
   "cell_type": "code",
   "execution_count": null,
   "metadata": {},
   "outputs": [],
   "source": [
    "#CAPACIDAD VIAJE\n",
    "df_sorted = df_filtrado.sort_values(by='puntos', ascending=False) #para ordenar de más puntos a menos\n",
    "capacidad_viaje = info_viaje['capacidad_viaje'] #crear una variable con la capacidad del viaje a partir del diccionario anterior\n",
    "\n",
    "# RESULTADO\n",
    "abuelos_seleccionados = df_sorted.head(capacidad_viaje) #limitamos por capacidad y mostramos\n",
    "viaje_id = info_viaje['viaje_id']\n",
    "nombre_archivo = f'ganadores_viaje{viaje_id}.csv'\n",
    "print(*info_viaje.items(), sep='\\n')\n",
    "display(abuelos_seleccionados)\n",
    "abuelos_seleccionados.to_csv(nombre_archivo, index=False)\n"
   ]
  }
 ],
 "metadata": {
  "language_info": {
   "name": "python"
  }
 },
 "nbformat": 4,
 "nbformat_minor": 2
}
