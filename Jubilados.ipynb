{
  "nbformat": 4,
  "nbformat_minor": 0,
  "metadata": {
    "colab": {
      "provenance": []
    },
    "kernelspec": {
      "name": "python3",
      "display_name": "Python 3"
    },
    "language_info": {
      "name": "python"
    }
  },
  "cells": [
    {
      "cell_type": "code",
      "execution_count": 4,
      "metadata": {
        "colab": {
          "base_uri": "https://localhost:8080/"
        },
        "id": "dbvPUhX_nbGC",
        "outputId": "6ce7bddf-88e5-4de9-c240-93907f7aa844"
      },
      "outputs": [
        {
          "output_type": "stream",
          "name": "stdout",
          "text": [
            "Requirement already satisfied: faker in /usr/local/lib/python3.10/dist-packages (21.0.0)\n",
            "Requirement already satisfied: python-dateutil>=2.4 in /usr/local/lib/python3.10/dist-packages (from faker) (2.8.2)\n",
            "Requirement already satisfied: six>=1.5 in /usr/local/lib/python3.10/dist-packages (from python-dateutil>=2.4->faker) (1.16.0)\n",
            "Requirement already satisfied: gender-guesser in /usr/local/lib/python3.10/dist-packages (0.4.0)\n",
            "Collecting unidecode\n",
            "  Downloading Unidecode-1.3.7-py3-none-any.whl (235 kB)\n",
            "\u001b[2K     \u001b[90m━━━━━━━━━━━━━━━━━━━━━━━━━━━━━━━━━━━━━━━━\u001b[0m \u001b[32m235.5/235.5 kB\u001b[0m \u001b[31m4.3 MB/s\u001b[0m eta \u001b[36m0:00:00\u001b[0m\n",
            "\u001b[?25hInstalling collected packages: unidecode\n",
            "Successfully installed unidecode-1.3.7\n"
          ]
        }
      ],
      "source": [
        "!pip install faker\n",
        "!pip install gender-guesser\n",
        "!pip install unidecode"
      ]
    },
    {
      "cell_type": "code",
      "source": [
        "import pandas as pd\n",
        "from faker import Faker\n",
        "from gender_guesser.detector import Detector\n",
        "from unidecode import unidecode\n",
        "import numpy as np"
      ],
      "metadata": {
        "id": "CPNg0Jrunwh_"
      },
      "execution_count": 6,
      "outputs": []
    },
    {
      "cell_type": "code",
      "source": [
        "fake = Faker('es_ES')  # Configura Faker para generar datos en español\n",
        "gender_detector = Detector()"
      ],
      "metadata": {
        "id": "pfdcsEFIoYqf"
      },
      "execution_count": 7,
      "outputs": []
    },
    {
      "cell_type": "code",
      "source": [
        "def generar_edad():\n",
        "    prob = fake.random_int(1, 100)\n",
        "    if prob <= 31.03: #7.57; 31.03 (0.2439)\n",
        "        return fake.random_int(min=58, max=64)\n",
        "    elif prob <= 52.5:  #5.48; 22.47\n",
        "        return fake.random_int(min=65, max=69)\n",
        "    elif prob <= 70.55:  #4.72; 19.35\n",
        "        return fake.random_int(min=70, max=74)\n",
        "    elif prob <= 85.5:  # 3.98; 16.32\n",
        "        return fake.random_int(min=75, max=79)\n",
        "    elif prob <= 95.52:  # 2.64; 10.82\n",
        "        return fake.random_int(min=80, max=84)\n",
        "    else:  # 4.48\n",
        "        return fake.random_int(min=85, max=100)\n",
        "\n",
        "def generar_historial():\n",
        "  probabilidad = fake.random_int(1, 100)\n",
        "  if probabilidad <= 0.8:\n",
        "    return 1\n",
        "  elif probabilidad <= 3.8:\n",
        "    return 2\n",
        "  elif probabilidad <= 4.58:\n",
        "    return 3\n",
        "  elif probabilidad <= 4.89:\n",
        "    return 4\n",
        "  else:\n",
        "    return 0\n",
        "def generar_hijos():\n",
        "  prob = fake.random_int(1, 100)\n",
        "  if prob <= 18.65 :\n",
        "    return 0\n",
        "  elif prob <= 44.21 :\n",
        "    return 1\n",
        "  elif prob <= 87.58 :\n",
        "    return 2\n",
        "  elif prob <= 90.58:\n",
        "    return 3\n",
        "  elif prob <= 93.58:\n",
        "    return 4\n",
        "  elif prob <= 96.58:\n",
        "    return 5\n",
        "  else:\n",
        "    return fake.random_int(min=6, max=8)\n",
        "\n",
        "def generar_lugar_residencia():\n",
        "  prob = fake.random_int(1, 100)\n",
        "  if prob <= 77.9:\n",
        "    return 'España'\n",
        "  elif prob <= 83.13:\n",
        "    return 'Europa'\n",
        "  elif prob <= 83.20:\n",
        "    return 'África'\n",
        "  elif prob <= 99.66:\n",
        "    return 'América'\n",
        "  elif prob <= 99.77:\n",
        "    return ' Asia'\n",
        "  else:\n",
        "    return 'Oceanía'\n",
        "\n",
        "\n",
        "\n",
        "\n",
        "# AQUÍ PARA CREAR COLUMNAS\n",
        "def generar_datos():\n",
        "    nombre_con_acentos = fake.first_name()\n",
        "    nombre_sin_acentos = unidecode(nombre_con_acentos)\n",
        "    genero = gender_detector.get_gender(nombre_sin_acentos)\n",
        "    edad = generar_edad()\n",
        "    endeudamiento = fake.random_int(1, 100) <= 18 # Endeudamiento es True el 18% de los casos\n",
        "    tipo_pensionista = fake.random_int(1, 6)\n",
        "    historial_judicial = generar_historial()\n",
        "    cantidad_hijos = generar_hijos()\n",
        "    lugar_residencia  = generar_lugar_residencia()\n",
        "    participacion_voluntariado =  fake.random_int(1, 100) <=30\n",
        "    return {\n",
        "        'nombre': nombre_sin_acentos,\n",
        "        'apellido': fake.last_name(),\n",
        "        'genero': genero,\n",
        "        'edad': edad,\n",
        "        'endeudamiento': endeudamiento,\n",
        "        'tipo de pensionista': tipo_pensionista,\n",
        "        'delito de mayor gravedad ' : historial_judicial,\n",
        "        'cantidad de hijos' : cantidad_hijos,\n",
        "        'Lugar de residencia': lugar_residencia,\n",
        "        'Participación en un voluntariado' : participacion_voluntariado\n",
        "    }\n",
        "\n",
        "# 5000 filas de datos\n",
        "datos = [generar_datos() for _ in range(5000)]\n",
        "df = pd.DataFrame(datos)\n",
        "\n",
        "# Guardar el DataFrame en un archivo CSV\n",
        "df.to_csv('jubilados.csv', index=False)\n",
        "print('DONE')"
      ],
      "metadata": {
        "colab": {
          "base_uri": "https://localhost:8080/"
        },
        "id": "Dh7zO60hoxSv",
        "outputId": "841b8e68-50a3-4ef3-83cd-3e50b0b501c9"
      },
      "execution_count": 15,
      "outputs": [
        {
          "output_type": "stream",
          "name": "stdout",
          "text": [
            "DONE\n"
          ]
        }
      ]
    }
  ]
}