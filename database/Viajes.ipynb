{
  "nbformat": 4,
  "nbformat_minor": 0,
  "metadata": {
    "colab": {
      "provenance": []
    },
    "kernelspec": {
      "name": "python3",
      "display_name": "Python 3"
    },
    "language_info": {
      "name": "python"
    }
  },
  "cells": [
    {
      "cell_type": "code",
      "source": [
        "!pip install faker\n",
        "!pip install gender-guesser\n",
        "!pip install unidecode"
      ],
      "metadata": {
        "colab": {
          "base_uri": "https://localhost:8080/"
        },
        "id": "Nf4qWFYq9irA",
        "outputId": "5db5d0f4-029c-4c7d-d0db-7564ed64f10f"
      },
      "execution_count": 52,
      "outputs": [
        {
          "output_type": "stream",
          "name": "stdout",
          "text": [
            "Requirement already satisfied: faker in /usr/local/lib/python3.10/dist-packages (21.0.0)\n",
            "Requirement already satisfied: python-dateutil>=2.4 in /usr/local/lib/python3.10/dist-packages (from faker) (2.8.2)\n",
            "Requirement already satisfied: six>=1.5 in /usr/local/lib/python3.10/dist-packages (from python-dateutil>=2.4->faker) (1.16.0)\n",
            "Requirement already satisfied: gender-guesser in /usr/local/lib/python3.10/dist-packages (0.4.0)\n",
            "Requirement already satisfied: unidecode in /usr/local/lib/python3.10/dist-packages (1.3.7)\n"
          ]
        }
      ]
    },
    {
      "cell_type": "code",
      "source": [
        "import pandas as pd\n",
        "from faker import Faker\n",
        "from gender_guesser.detector import Detector\n",
        "from unidecode import unidecode\n",
        "import numpy as np\n",
        "import random"
      ],
      "metadata": {
        "id": "NzhWUrHP9lb9"
      },
      "execution_count": 53,
      "outputs": []
    },
    {
      "cell_type": "code",
      "source": [
        "fake = Faker('es_ES')\n",
        "ruta_archivo_csv = '/content/geo.csv'\n",
        "df_geo= pd.read_csv(ruta_archivo_csv)"
      ],
      "metadata": {
        "id": "3LusvuEq9lVr"
      },
      "execution_count": 54,
      "outputs": []
    },
    {
      "cell_type": "code",
      "execution_count": 57,
      "metadata": {
        "id": "yA0ffeUSrv8O"
      },
      "outputs": [],
      "source": [
        "destinos_capitales_provincia={\n",
        "    'Andalucía': ['Córdoba', 'Granada', 'Sevilla'],\n",
        "    'Aragón': ['Zaragoza'],\n",
        "    'Cantabria': ['Santander'],\n",
        "    'Castilla-La Mancha': ['Toledo'],\n",
        "    'Castilla y León': ['Burgos', 'León', 'Salamanca', 'Zamora'],\n",
        "    'Cataluña': ['Girona'],\n",
        "    'Comunidad Valenciana': ['Valencia'],\n",
        "    'Extremadura': ['Cáceres'],\n",
        "    'Galicia': ['Ourense'],\n",
        "    'País Vasco': ['San Sebastián'],\n",
        "    'Ceuta':['Ceuta'],\n",
        "    'Melilla':['Melilla']\n",
        "    }\n",
        "\n",
        "lista_destinos_capitales = [(comunidad, lugares) for comunidad, lugares in destinos_capitales_provincia.items()] #crear una lista con los destinos de cada comunidad\n",
        "\n",
        "turismo_naturaleza = [\n",
        "    ('Andalucía', ['Aguadulce', 'Sanlúcar de Barrameda', 'Islantilla','Punta Umbría', 'La Iruela''Villanueva del Arzobispo']),\n",
        "    ('Aragón', ['Barbastro']),\n",
        "    ('Asturias', ['Gijón']),\n",
        "    ('Baleares', ['Palma de Mallorca']),\n",
        "    ('Canarias', ['Puerto de la Cruz']),\n",
        "    ('Cantabria', ['Cabuérniga']),\n",
        "    ('Castilla La-Mancha', ['Hellín', 'Cuenca']),\n",
        "    ('Castilla y León', ['Ávila', 'Barco de Ávila', 'Mogarraz', 'Soria']),\n",
        "    ('Cataluña', ['Pont de Suert']),\n",
        "    ('Comunidad Valenciana', ['Peñíscola']),\n",
        "    ('Extremadura', ['Trujillo']),\n",
        "    ('Galicia', ['Santiago de Compostela A Coruña']),\n",
        "    ('La Rioja', ['Haro']),\n",
        "    ('Madrid', ['San Lorenzo del Escorial']),\n",
        "    ('País Vasco', ['Zarautz'])\n",
        "]\n",
        "\n",
        "viajes_culturales = [\n",
        "    ('Andalucía', ['Jerez de la Frontera', 'Sanlúcar de Barrameda','Córdoba', 'Palma del Río', 'Albolote', 'Granada', 'Jaén', 'La Iruela', 'Úbeda', 'Benalmádena', 'Mijas','Sevilla', 'Sanlúcar la Mayor' ]),\n",
        "    ('Aragón', ['Huesca', 'Barbastro','Albarracín', 'Mora de Rubielos', 'Teruel','Zaragoza' ]),\n",
        "    ('Asturias', ['Gijón', 'Oviedo']),\n",
        "    ('Baleares', ['Palma de Mallorca']),\n",
        "    ('Canarias', ['Las Palmas de Gran Canaria']),\n",
        "    ('Cantabria', ['Santander', 'Santoña', 'Suances', 'Torrelavega']),\n",
        "    ('Castilla La-Mancha', ['Ciudad Real','Cuenca', 'Guadalajara','Talavera de la Reina' ]),\n",
        "    ('Castilla y León', ['Ávila', 'Barco de Ávila','Burgos', 'Villagonzalo','León', 'Palencia',\n",
        "        'Salamanca', 'Mogarraz', 'Santa Marta de Tormes','Segovia', 'Real Sitio de San Ildefonso','Soria', 'Valladolid', 'Zamora' ]),\n",
        "    ('Cataluña', ['Calella', 'Castelldefels', 'Reus', 'Salou']),\n",
        "    ('Comunidad Valenciana', ['Benidorm', 'Finestrat', 'Peñíscola','Gandía' ]),\n",
        "    ('Extremadura', ['Badajoz', 'Mérida', 'Cáceres', 'Trujillo' ]),\n",
        "    ('Galicia', [ 'A Coruña', 'Santiago de Compostela', 'Lugo','Ourense', 'Sanxenxo', 'Silleda', 'Haro', 'Logroño']),\n",
        "    ('Madrid', ['Aranjuez', 'Pinto', 'San Lorenzo del Escorial']),\n",
        "    ('Murcia', ['Águilas', 'La Manga del Mar Menor']),\n",
        "    ('Comunidad Foral de Navarra', ['Pamplona', 'Burguete']),\n",
        "    ('País Vasco', ['Laguardia','Eibar', 'Irún', 'Oñate', 'Zarautz','Sondika'])\n",
        "]\n",
        "\n",
        "\n"
      ]
    },
    {
      "cell_type": "code",
      "source": [
        " # AQUÍ PARA CREAR COLUMNAS\n",
        "def generar_datos():\n",
        "  tipo_viaje= fake.random_int(1, 3)\n",
        "\n",
        "  if tipo_viaje == 1 :\n",
        "    nombre_tipo_vaje= 'Capital de Provincia'\n",
        "    comunidad_destino=random.choice(lista_destinos_capitales)\n",
        "    lugar_destino=random.choice(comunidad_destino[1])\n",
        "    dias_estancia= 4\n",
        "    noches=3\n",
        "    transporte_pagado= False\n",
        "    precio_viaje:float=124.68\n",
        "\n",
        "  elif tipo_viaje == 2:\n",
        "    nombre_tipo_vaje= 'Turismo de naturaleza'\n",
        "    comunidad_destino=random.choice(turismo_naturaleza)\n",
        "    lugar_destino=random.choice(comunidad_destino[1])\n",
        "    dias_estancia=5\n",
        "    noches=4\n",
        "    transporte_pagado=False\n",
        "    precio_viaje:float=286.92\n",
        "\n",
        "  elif tipo_viaje == 3:\n",
        "    nombre_tipo_vaje = 'Turismo Cultural'\n",
        "    comunidad_destino=random.choice(viajes_culturales)\n",
        "    lugar_destino=random.choice(comunidad_destino[1])\n",
        "    dias_estancia=6\n",
        "    noches=5\n",
        "    transporte_pagado=False\n",
        "    precio_viaje:float=293.16\n",
        "\n",
        "\n",
        "  return{\n",
        "    'tipo de viaje': nombre_tipo_vaje,\n",
        "    'comunidad del destino': comunidad_destino[0],\n",
        "    'lugar de destino': lugar_destino,\n",
        "    'dias de estancia': dias_estancia,\n",
        "    'noches de estancia': noches,\n",
        "    'Tranporte incluido': transporte_pagado,\n",
        "    'precio del viaje (€)': precio_viaje\n",
        "    }\n",
        "\n",
        "datos = [generar_datos() for _ in range(100)]\n",
        "df = pd.DataFrame(datos)\n",
        "\n",
        "# Guardar el DataFrame en un archivo CSV\n",
        "df.to_csv('viajes.csv', index=False)\n",
        "print('DONE')\n",
        "\n",
        "\n",
        "\n",
        "\n",
        "\n",
        "\n",
        ""
      ],
      "metadata": {
        "colab": {
          "base_uri": "https://localhost:8080/"
        },
        "id": "UjLJyeIh9hrj",
        "outputId": "06d00ec0-ea23-45b9-ee90-7cbdd72315e0"
      },
      "execution_count": 59,
      "outputs": [
        {
          "output_type": "stream",
          "name": "stdout",
          "text": [
            "DONE\n"
          ]
        }
      ]
    }
  ]
}