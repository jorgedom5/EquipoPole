{
 "cells": [
  {
   "cell_type": "code",
   "execution_count": null,
   "metadata": {},
   "outputs": [],
   "source": [
    "import pandas as pd\n",
    "import pyodbc as pdb\n",
    "import psycopg2\n",
    "import numpy as np"
   ]
  },
  {
   "cell_type": "markdown",
   "metadata": {},
   "source": [
    "### CONEXIONES"
   ]
  },
  {
   "cell_type": "code",
   "execution_count": null,
   "metadata": {},
   "outputs": [],
   "source": [
    "host = \"localhost\"\n",
    "database = \"root\"\n",
    "user = \"root\"\n",
    "password = \"root\"\n",
    "port = \"5432\""
   ]
  },
  {
   "cell_type": "code",
   "execution_count": null,
   "metadata": {},
   "outputs": [],
   "source": [
    "connection_target = psycopg2.connect(\n",
    "        host=host,\n",
    "        database=database,\n",
    "        user=user,\n",
    "        password=password,\n",
    "        port=port\n",
    "    )\n",
    "\n",
    "# Cursor\n",
    "cur_target = connection_target.cursor()"
   ]
  },
  {
   "cell_type": "code",
   "execution_count": null,
   "metadata": {},
   "outputs": [],
   "source": [
    "query_jubilados = \"\"\"\n",
    "select \n",
    "  jubilado_id, \n",
    "  nombre, \n",
    "  apellido, \n",
    "  edad, \n",
    "  pension_anual, \n",
    "  años_tributados, \n",
    "  numero_propiedades, \n",
    "  nacionalidad_española, \n",
    "  g.geografico_id, \n",
    "  g.ciudad, \n",
    "  g.comunidad_autonoma, \n",
    "  g.es_costa, \n",
    "  cantidad_hijos, \n",
    "  ec.estado_civil, \n",
    "  participacion_anterior, \n",
    "  maltrato, \n",
    "  d.tipo_discapacidad, \n",
    "  e.enfermedad_nivel, \n",
    "  hj.historial_judicial, \n",
    "  endeudamiento, \n",
    "  participacion_voluntariado, \n",
    "  fumador, \n",
    "  preferencia_internacional, \n",
    "  tt.tipo_turismo \n",
    "from \n",
    "  jubilados j \n",
    "  left join geografico g on j.geografico_id = g.geografico_id \n",
    "  left join estado_civil ec on j.estado_civil_id = ec.estado_civil_id \n",
    "  left join discapacidad d on j.tipo_discapacidad_id = d.tipo_discapacidad_id \n",
    "  left join enfermedades e on j.enfermedad_id = e.enfermedad_id \n",
    "  left join historial_judicial hj on j.historial_judicial_id = hj.historial_judicial_id \n",
    "  left join tipo_turismo tt on j.tipo_turismo_id = tt.tipo_turismo_id;\n",
    "\"\"\"\n",
    "\n",
    "cur_target.execute(query_jubilados)\n",
    "rows = cur_target.fetchall()\n",
    "list_of_rows = []\n",
    "# Para guardar todas las filas\n",
    "for row in rows:\n",
    "    list_of_rows.append(row)\n",
    "# Obtener los nombres de las columnas desde la descripción del cursor\n",
    "column_names = [desc[0] for desc in cur_target.description]\n",
    "# Crea el DataFrame con los datos y los nombres de las columnas\n",
    "jubilados_df = pd.DataFrame(list_of_rows, columns=column_names)\n",
    "display(jubilados_df)"
   ]
  },
  {
   "cell_type": "code",
   "execution_count": null,
   "metadata": {},
   "outputs": [],
   "source": [
    "query_viajes = \"\"\"\n",
    "select \n",
    "  viajes_id, \n",
    "  g.geografico_id, \n",
    "  g.ciudad, \n",
    "  g.comunidad_autonoma, \n",
    "  g.es_costa, \n",
    "  v.numero_plazas, \n",
    "  v.numero_dias, \n",
    "  m.mes, \n",
    "  v.transporte_pagado, \n",
    "  tr.residencia, \n",
    "  tt.tipo_turismo \n",
    "from \n",
    "  viajes v \n",
    "  left join geografico g on v.geografico_id = g.geografico_id \n",
    "  left join mes m on v.mes_id = m.mes_id \n",
    "  left join tipo_residencia tr on v.tipo_residencia_id = tr.tipo_residencia_id \n",
    "  left join tipo_turismo tt on v.tipo_turismo_id = tt.tipo_turismo_id;\n",
    "\"\"\"\n",
    "\n",
    "cur_target.execute(query_viajes)\n",
    "rows = cur_target.fetchall()\n",
    "list_of_rows = []\n",
    "# Para guardar todas las filas\n",
    "for row in rows:\n",
    "    list_of_rows.append(row)\n",
    "# Obtener los nombres de las columnas desde la descripción del cursor\n",
    "column_names = [desc[0] for desc in cur_target.description]\n",
    "# Crea el DataFrame con los datos y los nombres de las columnas\n",
    "viajes_df = pd.DataFrame(list_of_rows, columns=column_names)\n",
    "print(viajes_df)"
   ]
  },
  {
   "cell_type": "code",
   "execution_count": null,
   "metadata": {},
   "outputs": [],
   "source": [
    "fila_aleatoria = viajes_df.sample(n=1)\n",
    "\n",
    "# Obtiene el valor de geografico_id del viaje elegido al azar\n",
    "geografico_id_aleatorio = fila_aleatoria['geografico_id'].values[0]\n",
    "info_viaje = fila_aleatoria.to_dict(orient='records')[0] #guarda la info del viaje en un diccionario\n",
    "\n",
    "# Filtra df basándose en geografico_id, de forma que puedan acceder los no viven en ese sitio\n",
    "df_filtrado = jubilados_df[jubilados_df['geografico_id'] != geografico_id_aleatorio]"
   ]
  },
  {
   "cell_type": "markdown",
   "metadata": {},
   "source": [
    "### FILTROS"
   ]
  },
  {
   "cell_type": "code",
   "execution_count": null,
   "metadata": {},
   "outputs": [],
   "source": [
    "# PUNTOS INICIALES\n",
    "df_filtrado['puntos'] = 0\n",
    "df_filtrado['puntos'] = df_filtrado['puntos'].astype(float)  # Para insertar decimales"
   ]
  },
  {
   "cell_type": "code",
   "execution_count": null,
   "metadata": {},
   "outputs": [],
   "source": [
    "#PUNTOS POR EDAD\n",
    "df_filtrado['puntos'] += np.minimum(10, 10 * (np.exp(0.01 * (df_filtrado['edad'] - 58)) ** 1.15 - 1) / (np.exp(0.01 * (90 - 58)) ** 1.15 - 1)+ 0.6)\n",
    "#np.minimum 10 es para que el máximo sea 10, que de igual si tiene 90 o 2332478 años, los puntos van a ser 10"
   ]
  },
  {
   "cell_type": "code",
   "execution_count": null,
   "metadata": {},
   "outputs": [],
   "source": [
    "#PUNTOS POR ENDEUDAMIENTO\n",
    "df_filtrado.loc[df_filtrado['endeudamiento'] == True, 'puntos'] -= 7"
   ]
  },
  {
   "cell_type": "code",
   "execution_count": null,
   "metadata": {},
   "outputs": [],
   "source": [
    "#PUNTOS POR AÑOS TRIBUTADOS\n",
    "df_filtrado['puntos'] += ((df_filtrado['años_tributados'] - 15) * 0.37)"
   ]
  },
  {
   "cell_type": "code",
   "execution_count": null,
   "metadata": {},
   "outputs": [],
   "source": [
    "#PUNTOS POR FUMADOR\n",
    "df_filtrado.loc[df_filtrado['fumador'] == True, 'puntos'] -=0.5"
   ]
  },
  {
   "cell_type": "code",
   "execution_count": null,
   "metadata": {},
   "outputs": [],
   "source": [
    "#PUNTOS POR NUMERO DE PROPIEDADES\n",
    "df_filtrado['puntos'] -= (df_filtrado['numero_propiedades']* 1)"
   ]
  },
  {
   "cell_type": "code",
   "execution_count": null,
   "metadata": {},
   "outputs": [],
   "source": [
    "#PUNTOS POR PARTICIPACION VOLUNTARIADO\n",
    "df_filtrado.loc[df_filtrado['participacion_voluntario'] == True, 'puntos'] += 2"
   ]
  },
  {
   "cell_type": "code",
   "execution_count": null,
   "metadata": {},
   "outputs": [],
   "source": [
    "#CAPACIDAD VIAJE\n",
    "df_sorted = df_filtrado.sort_values(by='puntos', ascending=False) #para ordenar de más puntos a menos\n",
    "capacidad_viaje = info_viaje['capacidad_viaje'] #crear una variable con la capacidad del viaje a partir del diccionario anterior\n",
    "\n",
    "# RESULTADO\n",
    "abuelos_seleccionados = df_sorted.head(capacidad_viaje) #limitamos por capacidad y mostramos\n",
    "viaje_id = info_viaje['viaje_id']\n",
    "nombre_archivo = f'ganadores_viaje{viaje_id}.csv'\n",
    "print(*info_viaje.items(), sep='\\n')\n",
    "display(abuelos_seleccionados)\n",
    "abuelos_seleccionados.to_csv(nombre_archivo, index=False)\n"
   ]
  }
 ],
 "metadata": {
  "kernelspec": {
   "display_name": "Python 3",
   "language": "python",
   "name": "python3"
  },
  "language_info": {
   "codemirror_mode": {
    "name": "ipython",
    "version": 3
   },
   "file_extension": ".py",
   "mimetype": "text/x-python",
   "name": "python",
   "nbconvert_exporter": "python",
   "pygments_lexer": "ipython3",
   "version": "3.11.6"
  }
 },
 "nbformat": 4,
 "nbformat_minor": 2
}
